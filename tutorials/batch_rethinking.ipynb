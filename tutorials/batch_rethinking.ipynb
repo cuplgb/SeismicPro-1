{
 "cells": [
  {
   "cell_type": "markdown",
   "metadata": {},
   "source": [
    "all def's:\n",
    "\n",
    "* __init__\n",
    "\n",
    "___decorators___\n",
    "\n",
    "* __create_components\n",
    "* __check_errors\n",
    "* _init_items\n",
    "* _init_component\n",
    "* _post_items\n",
    "* _post_filter_by_mask\n",
    "\n",
    "___Main_actions___\n",
    "\n",
    "* apply_along_axis - - used only in Batch tutorial as an example (!)\n",
    "* band_pass_filter - never used! (!)\n",
    "* to_2d - never used! (!)\n",
    "* load\n",
    "* dump\n",
    "* slice_traces - never used! (!)\n",
    "* pad_traces - never used! (!)\n",
    "* sort_traces\n",
    "* drop_zero_traces (!)\n",
    "* hodograph_straightening (!)\n",
    "* items_viewer - used only in Batch tutorial\n",
    "* standardize\n",
    "* equalize (!)\n",
    "\n",
    "* picking_to_mask\n",
    "* mask_to_pick\n",
    "* mcm - used only in models FBP\n",
    "* energy_to_picking - only in Coppen's_unsupervised_method \n",
    "\n",
    "* make_grid_for_crops (!)\n",
    "* crop\n",
    "* assemble_crops (!)\n",
    "\n",
    "* shift_pick_phase (!)\n",
    "\n",
    "___Supporting_functinos___\n",
    "\n",
    "* copy_meta\n",
    "* trace_headers - used only in /Groundroll_attenuation/Attention_model/model_description.ipynb!\n",
    "\n",
    "* _dump_segy\n",
    "* _dump_split_segy (!)\n",
    "* _dump_single_segy\n",
    "* _dump_picking\n",
    "* _dump_geometry_flags\n",
    "\n",
    "* _load_from_index\n",
    "* _load_segy\n",
    "* _load_from_segy_file\n",
    "\n",
    "* _sort (!)\n",
    "\n",
    "* correct_spherical_divergence\n",
    "* _correct_sph_div (!)\n",
    "\n",
    "* __crop (!)\n",
    "\n",
    "___Plotters_actions___\n",
    "\n",
    "* seismic_plot (!)\n",
    "* crops_plot (!)\n",
    "* spectrum_plot (!)\n",
    "* gain_plot (!)\n",
    "* statistics_plot - used in Batch and Models tutorials(!)\n"
   ]
  },
  {
   "cell_type": "code",
   "execution_count": 1,
   "metadata": {},
   "outputs": [],
   "source": [
    "import sys\n",
    "import re\n",
    "import numpy as np\n",
    "import matplotlib.pyplot as plt\n",
    "\n",
    "sys.path.append('..')\n",
    "  \n",
    "from seismicpro.src import FieldIndex, SeismicBatch, SeismicDataset\n",
    "from seismicpro.batchflow import I, V, B, Pipeline, R, P"
   ]
  },
  {
   "cell_type": "code",
   "execution_count": 2,
   "metadata": {},
   "outputs": [],
   "source": [
    "path_raw = '../../../SeismicPro/datasets/DN02A_LIFT_AMPSCAL.sgy'\n",
    "index = FieldIndex(name='raw', extra_headers=['offset', 'SourceX', 'SourceY'], path=path_raw)\n",
    "dataset = SeismicDataset(index)"
   ]
  },
  {
   "cell_type": "code",
   "execution_count": 3,
   "metadata": {},
   "outputs": [],
   "source": [
    "pipeline = (dataset.p\n",
    "            .load(fmt='segy', components=('raw'), tslice=slice(3000))\n",
    "            .do_parallel(src='raw', dst='raw1')\n",
    ")"
   ]
  },
  {
   "cell_type": "code",
   "execution_count": 8,
   "metadata": {},
   "outputs": [
    {
     "data": {
      "text/html": [
       "<div>\n",
       "<style scoped>\n",
       "    .dataframe tbody tr th:only-of-type {\n",
       "        vertical-align: middle;\n",
       "    }\n",
       "\n",
       "    .dataframe tbody tr th {\n",
       "        vertical-align: top;\n",
       "    }\n",
       "\n",
       "    .dataframe thead tr th {\n",
       "        text-align: left;\n",
       "    }\n",
       "</style>\n",
       "<table border=\"1\" class=\"dataframe\">\n",
       "  <thead>\n",
       "    <tr>\n",
       "      <th></th>\n",
       "      <th>FieldRecord</th>\n",
       "      <th>TraceNumber</th>\n",
       "      <th>offset</th>\n",
       "      <th>SourceX</th>\n",
       "      <th>SourceY</th>\n",
       "      <th>TRACE_SEQUENCE_FILE</th>\n",
       "      <th>file_id</th>\n",
       "    </tr>\n",
       "    <tr>\n",
       "      <th></th>\n",
       "      <th></th>\n",
       "      <th></th>\n",
       "      <th></th>\n",
       "      <th></th>\n",
       "      <th></th>\n",
       "      <th>raw</th>\n",
       "      <th>raw</th>\n",
       "    </tr>\n",
       "  </thead>\n",
       "  <tbody>\n",
       "    <tr>\n",
       "      <th>0</th>\n",
       "      <td>111906</td>\n",
       "      <td>1656</td>\n",
       "      <td>35</td>\n",
       "      <td>499287</td>\n",
       "      <td>6639813</td>\n",
       "      <td>1</td>\n",
       "      <td>../../../SeismicPro/datasets/DN02A_LIFT_AMPSCA...</td>\n",
       "    </tr>\n",
       "    <tr>\n",
       "      <th>1</th>\n",
       "      <td>111906</td>\n",
       "      <td>1657</td>\n",
       "      <td>36</td>\n",
       "      <td>499287</td>\n",
       "      <td>6639813</td>\n",
       "      <td>2</td>\n",
       "      <td>../../../SeismicPro/datasets/DN02A_LIFT_AMPSCA...</td>\n",
       "    </tr>\n",
       "    <tr>\n",
       "      <th>2</th>\n",
       "      <td>111906</td>\n",
       "      <td>1655</td>\n",
       "      <td>78</td>\n",
       "      <td>499287</td>\n",
       "      <td>6639813</td>\n",
       "      <td>3</td>\n",
       "      <td>../../../SeismicPro/datasets/DN02A_LIFT_AMPSCA...</td>\n",
       "    </tr>\n",
       "    <tr>\n",
       "      <th>3</th>\n",
       "      <td>111906</td>\n",
       "      <td>1658</td>\n",
       "      <td>79</td>\n",
       "      <td>499287</td>\n",
       "      <td>6639813</td>\n",
       "      <td>4</td>\n",
       "      <td>../../../SeismicPro/datasets/DN02A_LIFT_AMPSCA...</td>\n",
       "    </tr>\n",
       "    <tr>\n",
       "      <th>4</th>\n",
       "      <td>111906</td>\n",
       "      <td>1654</td>\n",
       "      <td>127</td>\n",
       "      <td>499287</td>\n",
       "      <td>6639813</td>\n",
       "      <td>5</td>\n",
       "      <td>../../../SeismicPro/datasets/DN02A_LIFT_AMPSCA...</td>\n",
       "    </tr>\n",
       "    <tr>\n",
       "      <th>...</th>\n",
       "      <td>...</td>\n",
       "      <td>...</td>\n",
       "      <td>...</td>\n",
       "      <td>...</td>\n",
       "      <td>...</td>\n",
       "      <td>...</td>\n",
       "      <td>...</td>\n",
       "    </tr>\n",
       "    <tr>\n",
       "      <th>3451</th>\n",
       "      <td>111906</td>\n",
       "      <td>3454</td>\n",
       "      <td>4984</td>\n",
       "      <td>499287</td>\n",
       "      <td>6639813</td>\n",
       "      <td>3452</td>\n",
       "      <td>../../../SeismicPro/datasets/DN02A_LIFT_AMPSCA...</td>\n",
       "    </tr>\n",
       "    <tr>\n",
       "      <th>3452</th>\n",
       "      <td>111906</td>\n",
       "      <td>3314</td>\n",
       "      <td>5019</td>\n",
       "      <td>499287</td>\n",
       "      <td>6639813</td>\n",
       "      <td>3453</td>\n",
       "      <td>../../../SeismicPro/datasets/DN02A_LIFT_AMPSCA...</td>\n",
       "    </tr>\n",
       "    <tr>\n",
       "      <th>3453</th>\n",
       "      <td>111906</td>\n",
       "      <td>3455</td>\n",
       "      <td>5019</td>\n",
       "      <td>499287</td>\n",
       "      <td>6639813</td>\n",
       "      <td>3454</td>\n",
       "      <td>../../../SeismicPro/datasets/DN02A_LIFT_AMPSCA...</td>\n",
       "    </tr>\n",
       "    <tr>\n",
       "      <th>3454</th>\n",
       "      <td>111906</td>\n",
       "      <td>3313</td>\n",
       "      <td>5054</td>\n",
       "      <td>499287</td>\n",
       "      <td>6639813</td>\n",
       "      <td>3455</td>\n",
       "      <td>../../../SeismicPro/datasets/DN02A_LIFT_AMPSCA...</td>\n",
       "    </tr>\n",
       "    <tr>\n",
       "      <th>3455</th>\n",
       "      <td>111906</td>\n",
       "      <td>3456</td>\n",
       "      <td>5054</td>\n",
       "      <td>499287</td>\n",
       "      <td>6639813</td>\n",
       "      <td>3456</td>\n",
       "      <td>../../../SeismicPro/datasets/DN02A_LIFT_AMPSCA...</td>\n",
       "    </tr>\n",
       "  </tbody>\n",
       "</table>\n",
       "<p>3456 rows × 7 columns</p>\n",
       "</div>"
      ],
      "text/plain": [
       "     FieldRecord TraceNumber offset SourceX  SourceY TRACE_SEQUENCE_FILE  \\\n",
       "                                                                     raw   \n",
       "0         111906        1656     35  499287  6639813                   1   \n",
       "1         111906        1657     36  499287  6639813                   2   \n",
       "2         111906        1655     78  499287  6639813                   3   \n",
       "3         111906        1658     79  499287  6639813                   4   \n",
       "4         111906        1654    127  499287  6639813                   5   \n",
       "...          ...         ...    ...     ...      ...                 ...   \n",
       "3451      111906        3454   4984  499287  6639813                3452   \n",
       "3452      111906        3314   5019  499287  6639813                3453   \n",
       "3453      111906        3455   5019  499287  6639813                3454   \n",
       "3454      111906        3313   5054  499287  6639813                3455   \n",
       "3455      111906        3456   5054  499287  6639813                3456   \n",
       "\n",
       "                                                file_id  \n",
       "                                                    raw  \n",
       "0     ../../../SeismicPro/datasets/DN02A_LIFT_AMPSCA...  \n",
       "1     ../../../SeismicPro/datasets/DN02A_LIFT_AMPSCA...  \n",
       "2     ../../../SeismicPro/datasets/DN02A_LIFT_AMPSCA...  \n",
       "3     ../../../SeismicPro/datasets/DN02A_LIFT_AMPSCA...  \n",
       "4     ../../../SeismicPro/datasets/DN02A_LIFT_AMPSCA...  \n",
       "...                                                 ...  \n",
       "3451  ../../../SeismicPro/datasets/DN02A_LIFT_AMPSCA...  \n",
       "3452  ../../../SeismicPro/datasets/DN02A_LIFT_AMPSCA...  \n",
       "3453  ../../../SeismicPro/datasets/DN02A_LIFT_AMPSCA...  \n",
       "3454  ../../../SeismicPro/datasets/DN02A_LIFT_AMPSCA...  \n",
       "3455  ../../../SeismicPro/datasets/DN02A_LIFT_AMPSCA...  \n",
       "\n",
       "[3456 rows x 7 columns]"
      ]
     },
     "execution_count": 8,
     "metadata": {},
     "output_type": "execute_result"
    }
   ],
   "source": [
    "b.index.get_df()"
   ]
  },
  {
   "cell_type": "code",
   "execution_count": 9,
   "metadata": {},
   "outputs": [
    {
     "data": {
      "text/plain": [
       "array([array([1656, 1657, 1655, ..., 3455, 3313, 3456], dtype=int32)],\n",
       "      dtype=object)"
      ]
     },
     "execution_count": 9,
     "metadata": {},
     "output_type": "execute_result"
    }
   ],
   "source": [
    "b.trace_headers('TraceNumber')"
   ]
  },
  {
   "cell_type": "code",
   "execution_count": 4,
   "metadata": {},
   "outputs": [
    {
     "name": "stdout",
     "output_type": "stream",
     "text": [
      "../../../SeismicPro/datasets/DN02A_LIFT_AMPSCAL.sgy\n",
      "init  (1,)\n",
      "(3456, 3000)\n"
     ]
    }
   ],
   "source": [
    "b = pipeline.next_batch(1)"
   ]
  },
  {
   "cell_type": "code",
   "execution_count": 5,
   "metadata": {},
   "outputs": [
    {
     "data": {
      "text/plain": [
       "array([[-7.23076284e-01, -1.99436092e+00, -3.67851067e+00, ...,\n",
       "         0.00000000e+00,  0.00000000e+00,  0.00000000e+00],\n",
       "       [-3.42115641e-01, -4.46800470e-01, -3.99934530e-01, ...,\n",
       "         0.00000000e+00,  0.00000000e+00,  0.00000000e+00],\n",
       "       [ 1.95368677e-02,  2.26023123e-02,  2.15877816e-02, ...,\n",
       "         0.00000000e+00,  0.00000000e+00,  0.00000000e+00],\n",
       "       ...,\n",
       "       [-1.10721585e-05, -7.59147679e-06, -4.95923359e-06, ...,\n",
       "         0.00000000e+00,  0.00000000e+00,  0.00000000e+00],\n",
       "       [-8.10291476e-06, -9.36593915e-06, -1.20077175e-05, ...,\n",
       "         0.00000000e+00,  0.00000000e+00,  0.00000000e+00],\n",
       "       [-8.61196258e-06, -5.45973853e-06, -1.39782969e-06, ...,\n",
       "         0.00000000e+00,  0.00000000e+00,  0.00000000e+00]], dtype=float32)"
      ]
     },
     "execution_count": 5,
     "metadata": {},
     "output_type": "execute_result"
    }
   ],
   "source": [
    "b.raw[0]"
   ]
  },
  {
   "cell_type": "code",
   "execution_count": 6,
   "metadata": {},
   "outputs": [
    {
     "data": {
      "text/plain": [
       "array([[ 0.27692372, -0.9943609 , -2.6785107 , ...,  1.        ,\n",
       "         1.        ,  1.        ],\n",
       "       [ 0.65788436,  0.5531995 ,  0.60006547, ...,  1.        ,\n",
       "         1.        ,  1.        ],\n",
       "       [ 1.0195369 ,  1.0226023 ,  1.0215877 , ...,  1.        ,\n",
       "         1.        ,  1.        ],\n",
       "       ...,\n",
       "       [ 0.9999889 ,  0.99999243,  0.99999505, ...,  1.        ,\n",
       "         1.        ,  1.        ],\n",
       "       [ 0.9999919 ,  0.99999064,  0.999988  , ...,  1.        ,\n",
       "         1.        ,  1.        ],\n",
       "       [ 0.9999914 ,  0.9999945 ,  0.9999986 , ...,  1.        ,\n",
       "         1.        ,  1.        ]], dtype=float32)"
      ]
     },
     "execution_count": 6,
     "metadata": {},
     "output_type": "execute_result"
    }
   ],
   "source": [
    "b.raw1[0]"
   ]
  },
  {
   "cell_type": "code",
   "execution_count": null,
   "metadata": {},
   "outputs": [],
   "source": []
  },
  {
   "cell_type": "code",
   "execution_count": null,
   "metadata": {},
   "outputs": [],
   "source": []
  }
 ],
 "metadata": {
  "kernelspec": {
   "display_name": "Python 3",
   "language": "python",
   "name": "python3"
  },
  "language_info": {
   "codemirror_mode": {
    "name": "ipython",
    "version": 3
   },
   "file_extension": ".py",
   "mimetype": "text/x-python",
   "name": "python",
   "nbconvert_exporter": "python",
   "pygments_lexer": "ipython3",
   "version": "3.6.9"
  }
 },
 "nbformat": 4,
 "nbformat_minor": 4
}
